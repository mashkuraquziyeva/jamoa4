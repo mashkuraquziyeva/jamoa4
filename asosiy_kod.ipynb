{
  "metadata": {
    "language_info": {
      "codemirror_mode": {
        "name": "python",
        "version": 3
      },
      "file_extension": ".py",
      "mimetype": "text/x-python",
      "name": "python",
      "nbconvert_exporter": "python",
      "pygments_lexer": "ipython3",
      "version": "3.8"
    },
    "kernelspec": {
      "name": "python",
      "display_name": "Python (Pyodide)",
      "language": "python"
    }
  },
  "nbformat_minor": 4,
  "nbformat": 4,
  "cells": [
    {
      "cell_type": "code",
      "source": "import numpy as np\nimport pandas as pd\nfrom matplotlib import pyplot as plt",
      "metadata": {
        "trusted": true
      },
      "execution_count": 2,
      "outputs": []
    },
    {
      "cell_type": "code",
      "source": "wur = pd.read_csv(\"wur.csv\")",
      "metadata": {
        "trusted": true
      },
      "execution_count": 3,
      "outputs": []
    },
    {
      "cell_type": "code",
      "source": "wur",
      "metadata": {
        "trusted": true
      },
      "execution_count": 4,
      "outputs": [
        {
          "execution_count": 4,
          "output_type": "execute_result",
          "data": {
            "text/plain": "                                   universitet_nomi        mamlakat  \\\n0                                Harvard University             USA   \n1             Massachusetts Institute of Technology             USA   \n2                               Stanford University             USA   \n3                           University of Cambridge  United Kingdom   \n4                California Institute of Technology             USA   \n5                              Princeton University             USA   \n6                              University of Oxford  United Kingdom   \n7                                   Yale University             USA   \n8                               Columbia University             USA   \n9                University of California, Berkeley             USA   \n10                            University of Chicago             USA   \n11                               Cornell University             USA   \n12                       University of Pennsylvania             USA   \n13                              University of Tokyo           Japan   \n14                         Johns Hopkins University             USA   \n15  Swiss Federal Institute of Technology in Zurich     Switzerland   \n16                                 Kyoto University           Japan   \n17                    Weizmann Institute of Science          Israel   \n18      University of North Carolina at Chapel Hill             USA   \n19               Washington University in St. Louis             USA   \n\n    milliy_daraja  oqitish_sifati  bitiruvchilarni_ishga_joylashishi  \\\n0               1               7                                  9   \n1               2               9                                 17   \n2               3              17                                 11   \n3               1              10                                 24   \n4               4               2                                 29   \n5               5               8                                 14   \n6               2              13                                 28   \n7               6              14                                 31   \n8               7              23                                 21   \n9               8              16                                 52   \n10              9              15                                 26   \n11             10              21                                 42   \n12             11              31                                 16   \n13              1              32                                 19   \n14             12              34                                 77   \n15              1              26                                 66   \n16              2              42                                 38   \n17              1               4                                101   \n18             25             101                                 86   \n19             26              74                                 62   \n\n    fakultet_sifati  nashriyoti  tasir_qilishi  iqtiboslar  patentlar   hisob  \n0                 1           1              1           1          5  100.00  \n1                 3          12              4           4          1   91.67  \n2                 5           4              2           2         15   89.50  \n3                 4          16             16          11         50   86.17  \n4                 7          37             22          22         18   85.21  \n5                 2          53             33          26        101   82.50  \n6                 9          15             13          19         26   82.34  \n7                12          14              6          15         66   79.14  \n8                10          13             12          14          5   78.86  \n9                 6           6              5           3         16   78.55  \n10                8          34             20          28        101   73.82  \n11               14          22             21          16         10   73.69  \n12               24           9             10           8          9   73.64  \n13               31           8             19          23          3   69.49  \n14               20          11              9           9          7   66.94  \n15               11          40             51          44         34   66.69  \n16               19          25             36          43         23   65.76  \n17               22         101             67         101         29   65.09  \n18               56          31             29          31         29   53.09  \n19              101          32             18          30         14   52.90  ",
            "text/html": "<div>\n<style scoped>\n    .dataframe tbody tr th:only-of-type {\n        vertical-align: middle;\n    }\n\n    .dataframe tbody tr th {\n        vertical-align: top;\n    }\n\n    .dataframe thead th {\n        text-align: right;\n    }\n</style>\n<table border=\"1\" class=\"dataframe\">\n  <thead>\n    <tr style=\"text-align: right;\">\n      <th></th>\n      <th>universitet_nomi</th>\n      <th>mamlakat</th>\n      <th>milliy_daraja</th>\n      <th>oqitish_sifati</th>\n      <th>bitiruvchilarni_ishga_joylashishi</th>\n      <th>fakultet_sifati</th>\n      <th>nashriyoti</th>\n      <th>tasir_qilishi</th>\n      <th>iqtiboslar</th>\n      <th>patentlar</th>\n      <th>hisob</th>\n    </tr>\n  </thead>\n  <tbody>\n    <tr>\n      <th>0</th>\n      <td>Harvard University</td>\n      <td>USA</td>\n      <td>1</td>\n      <td>7</td>\n      <td>9</td>\n      <td>1</td>\n      <td>1</td>\n      <td>1</td>\n      <td>1</td>\n      <td>5</td>\n      <td>100.00</td>\n    </tr>\n    <tr>\n      <th>1</th>\n      <td>Massachusetts Institute of Technology</td>\n      <td>USA</td>\n      <td>2</td>\n      <td>9</td>\n      <td>17</td>\n      <td>3</td>\n      <td>12</td>\n      <td>4</td>\n      <td>4</td>\n      <td>1</td>\n      <td>91.67</td>\n    </tr>\n    <tr>\n      <th>2</th>\n      <td>Stanford University</td>\n      <td>USA</td>\n      <td>3</td>\n      <td>17</td>\n      <td>11</td>\n      <td>5</td>\n      <td>4</td>\n      <td>2</td>\n      <td>2</td>\n      <td>15</td>\n      <td>89.50</td>\n    </tr>\n    <tr>\n      <th>3</th>\n      <td>University of Cambridge</td>\n      <td>United Kingdom</td>\n      <td>1</td>\n      <td>10</td>\n      <td>24</td>\n      <td>4</td>\n      <td>16</td>\n      <td>16</td>\n      <td>11</td>\n      <td>50</td>\n      <td>86.17</td>\n    </tr>\n    <tr>\n      <th>4</th>\n      <td>California Institute of Technology</td>\n      <td>USA</td>\n      <td>4</td>\n      <td>2</td>\n      <td>29</td>\n      <td>7</td>\n      <td>37</td>\n      <td>22</td>\n      <td>22</td>\n      <td>18</td>\n      <td>85.21</td>\n    </tr>\n    <tr>\n      <th>5</th>\n      <td>Princeton University</td>\n      <td>USA</td>\n      <td>5</td>\n      <td>8</td>\n      <td>14</td>\n      <td>2</td>\n      <td>53</td>\n      <td>33</td>\n      <td>26</td>\n      <td>101</td>\n      <td>82.50</td>\n    </tr>\n    <tr>\n      <th>6</th>\n      <td>University of Oxford</td>\n      <td>United Kingdom</td>\n      <td>2</td>\n      <td>13</td>\n      <td>28</td>\n      <td>9</td>\n      <td>15</td>\n      <td>13</td>\n      <td>19</td>\n      <td>26</td>\n      <td>82.34</td>\n    </tr>\n    <tr>\n      <th>7</th>\n      <td>Yale University</td>\n      <td>USA</td>\n      <td>6</td>\n      <td>14</td>\n      <td>31</td>\n      <td>12</td>\n      <td>14</td>\n      <td>6</td>\n      <td>15</td>\n      <td>66</td>\n      <td>79.14</td>\n    </tr>\n    <tr>\n      <th>8</th>\n      <td>Columbia University</td>\n      <td>USA</td>\n      <td>7</td>\n      <td>23</td>\n      <td>21</td>\n      <td>10</td>\n      <td>13</td>\n      <td>12</td>\n      <td>14</td>\n      <td>5</td>\n      <td>78.86</td>\n    </tr>\n    <tr>\n      <th>9</th>\n      <td>University of California, Berkeley</td>\n      <td>USA</td>\n      <td>8</td>\n      <td>16</td>\n      <td>52</td>\n      <td>6</td>\n      <td>6</td>\n      <td>5</td>\n      <td>3</td>\n      <td>16</td>\n      <td>78.55</td>\n    </tr>\n    <tr>\n      <th>10</th>\n      <td>University of Chicago</td>\n      <td>USA</td>\n      <td>9</td>\n      <td>15</td>\n      <td>26</td>\n      <td>8</td>\n      <td>34</td>\n      <td>20</td>\n      <td>28</td>\n      <td>101</td>\n      <td>73.82</td>\n    </tr>\n    <tr>\n      <th>11</th>\n      <td>Cornell University</td>\n      <td>USA</td>\n      <td>10</td>\n      <td>21</td>\n      <td>42</td>\n      <td>14</td>\n      <td>22</td>\n      <td>21</td>\n      <td>16</td>\n      <td>10</td>\n      <td>73.69</td>\n    </tr>\n    <tr>\n      <th>12</th>\n      <td>University of Pennsylvania</td>\n      <td>USA</td>\n      <td>11</td>\n      <td>31</td>\n      <td>16</td>\n      <td>24</td>\n      <td>9</td>\n      <td>10</td>\n      <td>8</td>\n      <td>9</td>\n      <td>73.64</td>\n    </tr>\n    <tr>\n      <th>13</th>\n      <td>University of Tokyo</td>\n      <td>Japan</td>\n      <td>1</td>\n      <td>32</td>\n      <td>19</td>\n      <td>31</td>\n      <td>8</td>\n      <td>19</td>\n      <td>23</td>\n      <td>3</td>\n      <td>69.49</td>\n    </tr>\n    <tr>\n      <th>14</th>\n      <td>Johns Hopkins University</td>\n      <td>USA</td>\n      <td>12</td>\n      <td>34</td>\n      <td>77</td>\n      <td>20</td>\n      <td>11</td>\n      <td>9</td>\n      <td>9</td>\n      <td>7</td>\n      <td>66.94</td>\n    </tr>\n    <tr>\n      <th>15</th>\n      <td>Swiss Federal Institute of Technology in Zurich</td>\n      <td>Switzerland</td>\n      <td>1</td>\n      <td>26</td>\n      <td>66</td>\n      <td>11</td>\n      <td>40</td>\n      <td>51</td>\n      <td>44</td>\n      <td>34</td>\n      <td>66.69</td>\n    </tr>\n    <tr>\n      <th>16</th>\n      <td>Kyoto University</td>\n      <td>Japan</td>\n      <td>2</td>\n      <td>42</td>\n      <td>38</td>\n      <td>19</td>\n      <td>25</td>\n      <td>36</td>\n      <td>43</td>\n      <td>23</td>\n      <td>65.76</td>\n    </tr>\n    <tr>\n      <th>17</th>\n      <td>Weizmann Institute of Science</td>\n      <td>Israel</td>\n      <td>1</td>\n      <td>4</td>\n      <td>101</td>\n      <td>22</td>\n      <td>101</td>\n      <td>67</td>\n      <td>101</td>\n      <td>29</td>\n      <td>65.09</td>\n    </tr>\n    <tr>\n      <th>18</th>\n      <td>University of North Carolina at Chapel Hill</td>\n      <td>USA</td>\n      <td>25</td>\n      <td>101</td>\n      <td>86</td>\n      <td>56</td>\n      <td>31</td>\n      <td>29</td>\n      <td>31</td>\n      <td>29</td>\n      <td>53.09</td>\n    </tr>\n    <tr>\n      <th>19</th>\n      <td>Washington University in St. Louis</td>\n      <td>USA</td>\n      <td>26</td>\n      <td>74</td>\n      <td>62</td>\n      <td>101</td>\n      <td>32</td>\n      <td>18</td>\n      <td>30</td>\n      <td>14</td>\n      <td>52.90</td>\n    </tr>\n  </tbody>\n</table>\n</div>"
          },
          "metadata": {}
        }
      ]
    },
    {
      "cell_type": "code",
      "source": "rank = wur['milliy_daraja']\nplt.bar(10, height=5)\np",
      "metadata": {},
      "execution_count": null,
      "outputs": []
    }
  ]
}