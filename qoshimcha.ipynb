import pandas as pd
import numpy as np
import seaborn as sns
from matplotlib import pyplot as plt
plt.show()

